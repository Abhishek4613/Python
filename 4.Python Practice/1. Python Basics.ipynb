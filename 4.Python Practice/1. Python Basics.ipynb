{
 "cells": [
  {
   "cell_type": "markdown",
   "id": "32fc1ae1",
   "metadata": {},
   "source": [
    "# 1. Python Basics"
   ]
  },
  {
   "cell_type": "markdown",
   "id": "27319bd0",
   "metadata": {},
   "source": [
    "## String"
   ]
  },
  {
   "cell_type": "markdown",
   "id": "db7ad87d",
   "metadata": {},
   "source": [
    "#### Given a string, the task is to check if the string is symmetrical and palindrome or not."
   ]
  },
  {
   "cell_type": "code",
   "execution_count": 1,
   "id": "db3fdc28",
   "metadata": {},
   "outputs": [],
   "source": [
    "def pelindrome(string):\n",
    "    \n",
    "    mid = (len(string)-1)//2\n",
    "    start = 0                \n",
    "    last = len(string)-1\n",
    "    flag = 0\n",
    "    \n",
    "    \n",
    "    while(start <= mid):\n",
    "  \n",
    "        if (string[start]== string[last]):\n",
    "             \n",
    "            start += 1\n",
    "            last -= 1\n",
    "             \n",
    "        else:\n",
    "            flag = 1\n",
    "            \n",
    "            break\n",
    "            \n",
    "        \n",
    "    if flag == 0:\n",
    "        print(\"The entered string is palindrome.\")\n",
    "    else:\n",
    "        print(\"The entered string is not palindrome.\")\n",
    "\n",
    "        \n",
    "\n",
    "def symmetry(string):\n",
    "     \n",
    "    n = len(string)\n",
    "    flag = 0\n",
    "     \n",
    "    \n",
    "    if n%2:\n",
    "        mid = n//2 +1\n",
    "        \n",
    "    else:\n",
    "        mid = n//2\n",
    "         \n",
    "    start1 = 0\n",
    "    start2 = mid\n",
    "     \n",
    "    while(start1 < mid and start2 < n):\n",
    "         \n",
    "        if (string[start1]== string[start2]):\n",
    "            start1 = start1 + 1\n",
    "            start2 = start2 + 1\n",
    "            \n",
    "        else:\n",
    "            flag = 1\n",
    "            \n",
    "            break\n",
    "            \n",
    "    if flag == 0:\n",
    "        print(\"The entered string is symmetrical.\")\n",
    "        \n",
    "    else:\n",
    "        print(\"The entered string is not symmetrical.\")  "
   ]
  },
  {
   "cell_type": "code",
   "execution_count": 2,
   "id": "270c493e",
   "metadata": {},
   "outputs": [
    {
     "name": "stdout",
     "output_type": "stream",
     "text": [
      "Enter the string to check: racecar\n"
     ]
    }
   ],
   "source": [
    "string = input(\"Enter the string to check: \")"
   ]
  },
  {
   "cell_type": "code",
   "execution_count": 3,
   "id": "3b3d58a1",
   "metadata": {},
   "outputs": [
    {
     "name": "stdout",
     "output_type": "stream",
     "text": [
      "The entered string is palindrome.\n"
     ]
    }
   ],
   "source": [
    "pelindrome(string)"
   ]
  },
  {
   "cell_type": "code",
   "execution_count": 4,
   "id": "69cb9d2d",
   "metadata": {},
   "outputs": [
    {
     "name": "stdout",
     "output_type": "stream",
     "text": [
      "The entered string is not symmetrical.\n"
     ]
    }
   ],
   "source": [
    "symmetry(string)"
   ]
  },
  {
   "cell_type": "markdown",
   "id": "648ef958",
   "metadata": {},
   "source": [
    "#### Write a program to reverse words of a given string."
   ]
  },
  {
   "cell_type": "code",
   "execution_count": 5,
   "id": "5898c040",
   "metadata": {},
   "outputs": [],
   "source": [
    "def reverse_words(string):\n",
    "    \n",
    "    reverse = string.split()[::-1]\n",
    "    \n",
    "    l = []\n",
    "    \n",
    "    for i in reverse:\n",
    "        l.append(i)\n",
    "        \n",
    "    print(\" \".join(l))"
   ]
  },
  {
   "cell_type": "code",
   "execution_count": 6,
   "id": "0b61ab8c",
   "metadata": {},
   "outputs": [
    {
     "name": "stdout",
     "output_type": "stream",
     "text": [
      "Enter the string to reverse its words: ABHAY GAUR\n"
     ]
    }
   ],
   "source": [
    "string = input(\"Enter the string to reverse its words: \")"
   ]
  },
  {
   "cell_type": "code",
   "execution_count": 7,
   "id": "a3bdb5bd",
   "metadata": {},
   "outputs": [
    {
     "name": "stdout",
     "output_type": "stream",
     "text": [
      "GAUR ABHAY\n"
     ]
    }
   ],
   "source": [
    "reverse_words(string)"
   ]
  },
  {
   "cell_type": "markdown",
   "id": "8eb78b12",
   "metadata": {},
   "source": [
    "****Using concept of Stack**"
   ]
  },
  {
   "cell_type": "code",
   "execution_count": 8,
   "id": "5b63331f",
   "metadata": {},
   "outputs": [],
   "source": [
    "def reverse_words(string):\n",
    " \n",
    "\n",
    "    stack = []\n",
    "\n",
    "\n",
    "    for word in string.split():\n",
    "        stack.append(word)\n",
    "\n",
    "\n",
    "    reversed_words = []\n",
    "\n",
    "\n",
    "    while stack:\n",
    "        reversed_words.append(stack.pop())\n",
    "\n",
    "\n",
    "    reversed_string = \" \".join(reversed_words)\n",
    "\n",
    "\n",
    "    print(reversed_string)"
   ]
  },
  {
   "cell_type": "code",
   "execution_count": 9,
   "id": "e15210f0",
   "metadata": {},
   "outputs": [
    {
     "name": "stdout",
     "output_type": "stream",
     "text": [
      "Enter the string to reverse its words: ABHAY GAUR\n"
     ]
    }
   ],
   "source": [
    "string = input(\"Enter the string to reverse its words: \")"
   ]
  },
  {
   "cell_type": "code",
   "execution_count": 10,
   "id": "7875a649",
   "metadata": {},
   "outputs": [
    {
     "name": "stdout",
     "output_type": "stream",
     "text": [
      "GAUR ABHAY\n"
     ]
    }
   ],
   "source": [
    "reverse_words(string)"
   ]
  },
  {
   "cell_type": "markdown",
   "id": "d783be8d",
   "metadata": {},
   "source": [
    "#### Write a program to remove ith character from string."
   ]
  },
  {
   "cell_type": "code",
   "execution_count": 11,
   "id": "21e43ff5",
   "metadata": {},
   "outputs": [],
   "source": [
    "def removing_charecter(test_string):\n",
    "\n",
    "    new_string = \" \"\n",
    "\n",
    "    for i in range(0,len(test_string)):\n",
    "\n",
    "        if i != position:\n",
    "            new_string = new_string + test_string[i]\n",
    "\n",
    "    print(new_string)"
   ]
  },
  {
   "cell_type": "code",
   "execution_count": 12,
   "id": "8ff31505",
   "metadata": {},
   "outputs": [
    {
     "name": "stdout",
     "output_type": "stream",
     "text": [
      "Enter the string: Helloo ABHISHEK\n"
     ]
    }
   ],
   "source": [
    "test_strings = input(\"Enter the string: \")"
   ]
  },
  {
   "cell_type": "code",
   "execution_count": 13,
   "id": "3373d567",
   "metadata": {},
   "outputs": [
    {
     "name": "stdout",
     "output_type": "stream",
     "text": [
      "Enter the position of charecter to be removed: 4\n"
     ]
    }
   ],
   "source": [
    "position = int(input(\"Enter the position of charecter to be removed: \"))"
   ]
  },
  {
   "cell_type": "code",
   "execution_count": 14,
   "id": "f26d96a5",
   "metadata": {},
   "outputs": [
    {
     "name": "stdout",
     "output_type": "stream",
     "text": [
      " Hello ABHISHEK\n"
     ]
    }
   ],
   "source": [
    "removing_charecter(test_strings)"
   ]
  },
  {
   "cell_type": "markdown",
   "id": "52d555d2",
   "metadata": {},
   "source": [
    "#### Given a String, compute all the characters, except spaces."
   ]
  },
  {
   "cell_type": "code",
   "execution_count": 15,
   "id": "83e2d7e9",
   "metadata": {},
   "outputs": [
    {
     "name": "stdout",
     "output_type": "stream",
     "text": [
      "Total Count of all Charecters are:  50\n"
     ]
    }
   ],
   "source": [
    "def chrCounter(string):\n",
    "    \n",
    "    totalCount = sum(not chr.isspace() for chr in string)\n",
    "    \n",
    "    print(\"Total Count of all Charecters are: \", totalCount)\n",
    "    \n",
    "test_string = \"Hello,   Abhay  and Abhishek,  Welcome to the Python Tutorial  .\"\n",
    "\n",
    "chrCounter(test_string)"
   ]
  },
  {
   "cell_type": "markdown",
   "id": "5ff8ab67",
   "metadata": {},
   "source": [
    "#### Given a string. The task is to print all words with even length in the given string."
   ]
  },
  {
   "cell_type": "code",
   "execution_count": 16,
   "id": "2c08bb25",
   "metadata": {},
   "outputs": [
    {
     "name": "stdout",
     "output_type": "stream",
     "text": [
      "Hello,\n",
      "to\n",
      "Python\n"
     ]
    }
   ],
   "source": [
    "def evenLength(string):\n",
    "    \n",
    "    n = string.split(\" \")\n",
    "   \n",
    "    for i in n:\n",
    "        \n",
    "        if len(i)%2 == 0:\n",
    "            \n",
    "            print(i)\n",
    "            \n",
    "            \n",
    "test_string = \"Hello, Abhay and Abhishek, Welcome to the Python Tutorial.\"\n",
    "\n",
    "evenLength(test_string)"
   ]
  },
  {
   "cell_type": "markdown",
   "id": "b0b7a3cb",
   "metadata": {},
   "source": [
    "#### Given a String, make uppercase of later half part the of string."
   ]
  },
  {
   "cell_type": "code",
   "execution_count": 17,
   "id": "8db09e2c",
   "metadata": {},
   "outputs": [
    {
     "name": "stdout",
     "output_type": "stream",
     "text": [
      "Enter the String:abhishek\n",
      "Original String:  abhishek \n",
      "New String:  abhiSHEK\n"
     ]
    }
   ],
   "source": [
    "def upperCaseHalf(string):\n",
    "    \n",
    "    half_len = len(string)//2\n",
    "    \n",
    "    new_string = string[:half_len] + string[half_len:].upper()\n",
    "    \n",
    "    print(\"Original String: \",string, \"\\nNew String: \",new_string)\n",
    "    \n",
    "string = input(\"Enter the String:\" )\n",
    "\n",
    "upperCaseHalf(string)"
   ]
  },
  {
   "cell_type": "markdown",
   "id": "8d0fa2e8",
   "metadata": {},
   "source": [
    "#### Write a program to capitalize the first and last character of each word in a string."
   ]
  },
  {
   "cell_type": "code",
   "execution_count": 18,
   "id": "137937b0",
   "metadata": {},
   "outputs": [
    {
     "name": "stdout",
     "output_type": "stream",
     "text": [
      "Hello, AbhaY AnD Abhishek, WelcomE TO ThE PythoN Tutorial.\n"
     ]
    }
   ],
   "source": [
    "def upperCase(string):\n",
    "    \n",
    "    new_string = \" \".join(map(lambda s : s[:-1] + s[-1].upper(),s.title().split()))\n",
    "    \n",
    "    print(new_string)\n",
    "    \n",
    "s = \"Hello, Abhay and Abhishek, Welcome to the Python Tutorial.\"\n",
    "\n",
    "upperCase(s)"
   ]
  },
  {
   "cell_type": "markdown",
   "id": "c1f2d711",
   "metadata": {},
   "source": [
    "#### Given a string in Python. The task is to check whether the string has at least one letter and one number. Return “True” if the given string fully fill the above condition else return “False” (without quotes)."
   ]
  },
  {
   "cell_type": "code",
   "execution_count": 19,
   "id": "8fd3a73a",
   "metadata": {},
   "outputs": [],
   "source": [
    "def check(string):\n",
    "    \n",
    "    flag_number = False\n",
    "    flag_letter = False\n",
    "    \n",
    "    for i in string:\n",
    "        \n",
    "        if i.isdigit():\n",
    "            flag_number = True\n",
    "            \n",
    "        if i.isalpha():\n",
    "            flag_letter = True\n",
    "            \n",
    "    return flag_number and flag_letter"
   ]
  },
  {
   "cell_type": "code",
   "execution_count": 20,
   "id": "47395e63",
   "metadata": {},
   "outputs": [],
   "source": [
    "s = \"Hello007\"\n",
    "r = \"Hello\"\n",
    "t = \"007\""
   ]
  },
  {
   "cell_type": "code",
   "execution_count": 21,
   "id": "e1cac746",
   "metadata": {},
   "outputs": [
    {
     "data": {
      "text/plain": [
       "True"
      ]
     },
     "execution_count": 21,
     "metadata": {},
     "output_type": "execute_result"
    }
   ],
   "source": [
    "check(s)"
   ]
  },
  {
   "cell_type": "code",
   "execution_count": 22,
   "id": "f1c015ce",
   "metadata": {},
   "outputs": [
    {
     "data": {
      "text/plain": [
       "False"
      ]
     },
     "execution_count": 22,
     "metadata": {},
     "output_type": "execute_result"
    }
   ],
   "source": [
    "check(r)"
   ]
  },
  {
   "cell_type": "code",
   "execution_count": 23,
   "id": "2b3cac97",
   "metadata": {},
   "outputs": [
    {
     "data": {
      "text/plain": [
       "False"
      ]
     },
     "execution_count": 23,
     "metadata": {},
     "output_type": "execute_result"
    }
   ],
   "source": [
    "check(t)"
   ]
  },
  {
   "cell_type": "markdown",
   "id": "73f69319",
   "metadata": {},
   "source": [
    "#### Given a string, the task is to check if every vowel is present or not. We consider a vowel to be present if it is present in upper case or lower case. i.e. ‘a’, ‘e’, ‘i’.’o’, ‘u’ or ‘A’, ‘E’, ‘I’, ‘O’, ‘U’ ."
   ]
  },
  {
   "cell_type": "code",
   "execution_count": 24,
   "id": "bf5558c0",
   "metadata": {},
   "outputs": [
    {
     "name": "stdout",
     "output_type": "stream",
     "text": [
      "Enter the string containg all vowels: A quick brown fox jumps over a lazy dog\n",
      "Not All Vowels are Presnt, Enter the string again.\n"
     ]
    }
   ],
   "source": [
    "def checkAllVowel(string):\n",
    "    \n",
    "    vowels = set({\"aeiou\"})\n",
    "    \n",
    "    string = string.lower()\n",
    "    \n",
    "    vowel_present = set({})\n",
    "    \n",
    "    if vowels.issubset(string):\n",
    "        print(\"All Vowels are Present.\")\n",
    "        \n",
    "    else:\n",
    "        \n",
    "        print(\"Not All Vowels are Presnt, Enter the string again.\")\n",
    "        \n",
    "\n",
    "string  = input(\"Enter the string containg all vowels: \")\n",
    "\n",
    "\n",
    "checkAllVowel(string)"
   ]
  },
  {
   "cell_type": "markdown",
   "id": "44a7fe39",
   "metadata": {},
   "source": [
    "#### Given a pair of non-empty strings. Count the number of matching characters in those strings (consider the single count for the character which have duplicates in the strings)."
   ]
  },
  {
   "cell_type": "code",
   "execution_count": 22,
   "id": "379e3549",
   "metadata": {},
   "outputs": [],
   "source": [
    "def matchCount(string1,string2):\n",
    "    \n",
    "    matched_charecters = set(string1) & set(string2)\n",
    "    \n",
    "    print(\"Number of Matched Charecter: \", len(matched_charecters), \"\\nMatched Character are: \", matched_charecters)"
   ]
  },
  {
   "cell_type": "code",
   "execution_count": 23,
   "id": "4f4050f8",
   "metadata": {},
   "outputs": [],
   "source": [
    "a = \"helloAbhay\"\n",
    "b = \"helloAbhishek\""
   ]
  },
  {
   "cell_type": "code",
   "execution_count": 24,
   "id": "347a0399",
   "metadata": {},
   "outputs": [
    {
     "name": "stdout",
     "output_type": "stream",
     "text": [
      "Number of Matched Charecter:  6 \n",
      "Matched Character are:  {'o', 'A', 'h', 'e', 'b', 'l'}\n"
     ]
    }
   ],
   "source": [
    "matchCount(a,b)"
   ]
  },
  {
   "cell_type": "markdown",
   "id": "81297057",
   "metadata": {},
   "source": [
    "#### Given a string, count the number of vowels present in given string."
   ]
  },
  {
   "cell_type": "code",
   "execution_count": 25,
   "id": "980f95b9",
   "metadata": {},
   "outputs": [],
   "source": [
    "def vowelCount(string):\n",
    "    \n",
    "    vowels = \"aeiouAEIOU\"\n",
    "    \n",
    "    count = len([x for x in string if x in vowels])\n",
    "    \n",
    "    print(\"Total Counts of Vowels: \",count)"
   ]
  },
  {
   "cell_type": "code",
   "execution_count": 26,
   "id": "ed498950",
   "metadata": {},
   "outputs": [],
   "source": [
    "a = \"Abhishek Kumar\""
   ]
  },
  {
   "cell_type": "code",
   "execution_count": 27,
   "id": "c90890fa",
   "metadata": {},
   "outputs": [
    {
     "name": "stdout",
     "output_type": "stream",
     "text": [
      "Total Counts of Vowels:  5\n"
     ]
    }
   ],
   "source": [
    "vowelCount(a)"
   ]
  },
  {
   "cell_type": "markdown",
   "id": "0031efe7",
   "metadata": {},
   "source": [
    "#### We are given a string and we need to remove all duplicates from it? What will be the output if the order of character matters?"
   ]
  },
  {
   "cell_type": "code",
   "execution_count": 28,
   "id": "5a6bebeb",
   "metadata": {},
   "outputs": [],
   "source": [
    "def removeDuplicates(string):\n",
    "    \n",
    "    t = \"\"\n",
    "    \n",
    "    for i in string:\n",
    "        \n",
    "        if i in t:\n",
    "            pass\n",
    "        else:\n",
    "            t+= i\n",
    "            \n",
    "    print(\"String Without Duplicates: \", t)"
   ]
  },
  {
   "cell_type": "code",
   "execution_count": 29,
   "id": "981d6df1",
   "metadata": {},
   "outputs": [],
   "source": [
    "s = \"asdfhlkajgasdfglkjhg\""
   ]
  },
  {
   "cell_type": "code",
   "execution_count": 30,
   "id": "8ef583e0",
   "metadata": {},
   "outputs": [
    {
     "name": "stdout",
     "output_type": "stream",
     "text": [
      "String Without Duplicates:  asdfhlkjg\n"
     ]
    }
   ],
   "source": [
    "removeDuplicates(s)"
   ]
  },
  {
   "cell_type": "markdown",
   "id": "57832208",
   "metadata": {},
   "source": [
    "#### Find the frequency of minimum and maximum occurring character in a python string."
   ]
  },
  {
   "cell_type": "code",
   "execution_count": 31,
   "id": "1e5587b8",
   "metadata": {},
   "outputs": [],
   "source": [
    "def frequencyCounter(string):\n",
    "    \n",
    "    cher_count = {}\n",
    "    \n",
    "    for i in string:\n",
    "        \n",
    "        if i in cher_count:\n",
    "            cher_count[i]+= 1\n",
    "        else:\n",
    "            cher_count[i] = 1\n",
    "            \n",
    "    min_fre = min(cher_count, key = cher_count.get)\n",
    "    max_fre = max(cher_count, key = cher_count.get)\n",
    "    \n",
    "    print(\"Minumum Occuring Charecter: \",min_fre, \"\\nMaximum Occuring Charecter: \", max_fre)"
   ]
  },
  {
   "cell_type": "code",
   "execution_count": 32,
   "id": "958f1df2",
   "metadata": {},
   "outputs": [],
   "source": [
    "s = \"ksjdfbhweoiurynvkjshfgsdjkfhg\""
   ]
  },
  {
   "cell_type": "code",
   "execution_count": 33,
   "id": "bc64646f",
   "metadata": {},
   "outputs": [
    {
     "name": "stdout",
     "output_type": "stream",
     "text": [
      "Minumum Occuring Charecter:  b \n",
      "Maximum Occuring Charecter:  k\n"
     ]
    }
   ],
   "source": [
    "frequencyCounter(s)"
   ]
  },
  {
   "cell_type": "markdown",
   "id": "33c48974",
   "metadata": {},
   "source": [
    "## List"
   ]
  },
  {
   "cell_type": "markdown",
   "id": "b3c1ec96",
   "metadata": {},
   "source": [
    "#### Write a program to interchange first and last elements in a list."
   ]
  },
  {
   "cell_type": "code",
   "execution_count": 34,
   "id": "3f677a42",
   "metadata": {},
   "outputs": [
    {
     "data": {
      "text/plain": [
       "[24, 35, 9, 56, 12]"
      ]
     },
     "execution_count": 34,
     "metadata": {},
     "output_type": "execute_result"
    }
   ],
   "source": [
    "given_list = [12, 35, 9, 56, 24]\n",
    "\n",
    "def swap(l):\n",
    "    \n",
    "    l[0],l[-1] = l[-1],l[0]\n",
    "    \n",
    "    return l\n",
    "    \n",
    "swap(given_list)"
   ]
  },
  {
   "cell_type": "markdown",
   "id": "38be6006",
   "metadata": {},
   "source": [
    "#### Write a program to swap two elements in a list."
   ]
  },
  {
   "cell_type": "code",
   "execution_count": 35,
   "id": "a52db1f9",
   "metadata": {},
   "outputs": [
    {
     "data": {
      "text/plain": [
       "('New List:', [12, 35, 9, 30, 24, 56, 87])"
      ]
     },
     "execution_count": 35,
     "metadata": {},
     "output_type": "execute_result"
    }
   ],
   "source": [
    "given_list = [12, 35, 9, 56, 24, 30, 87]\n",
    "\n",
    "def swapPosition(list, pos1, pos2):\n",
    "    \n",
    "    list[pos1], list[pos2] = list[pos2],list[pos1]\n",
    "    \n",
    "    return f\"New List:\", list\n",
    "\n",
    "swapPosition(given_list, 3,5)"
   ]
  },
  {
   "cell_type": "markdown",
   "id": "fe40176d",
   "metadata": {},
   "source": [
    "#### Create a fuction to seprate the even and odd numbers from the list of numbers and store them in seperate lists."
   ]
  },
  {
   "cell_type": "code",
   "execution_count": 36,
   "id": "3a4ae224",
   "metadata": {},
   "outputs": [],
   "source": [
    "def returnOddEven(l):\n",
    "    \n",
    "    l_even = []\n",
    "    l_odd = []\n",
    "    \n",
    "    for x in l:\n",
    "        \n",
    "        if x%2==0:\n",
    "            l_even.append(x)\n",
    "        else:\n",
    "            l_odd.append(x)\n",
    "    print(\"Given List: \")\n",
    "    print(\"Even Number List: \",l_even)\n",
    "    print(\"Odd Number List: \",l_odd)"
   ]
  },
  {
   "cell_type": "code",
   "execution_count": 37,
   "id": "f358c692",
   "metadata": {},
   "outputs": [],
   "source": [
    "l = [18,54,33,64,77,21,86]"
   ]
  },
  {
   "cell_type": "markdown",
   "id": "d0a4996b",
   "metadata": {},
   "source": [
    "**Using List Comprehension**"
   ]
  },
  {
   "cell_type": "code",
   "execution_count": 38,
   "id": "d5c8655a",
   "metadata": {},
   "outputs": [],
   "source": [
    "def returnOddEven(l):\n",
    "    \n",
    "    print(f\"Even Number List: {[x for x in l if x%2==0]}\")\n",
    "    print(f\"Odd Number List: {[x for x in l if x%2!=0]}\")"
   ]
  },
  {
   "cell_type": "code",
   "execution_count": 39,
   "id": "381f34f4",
   "metadata": {},
   "outputs": [],
   "source": [
    "l = [18,54,33,64,77,21,86]"
   ]
  },
  {
   "cell_type": "code",
   "execution_count": 40,
   "id": "43fb3c12",
   "metadata": {},
   "outputs": [
    {
     "name": "stdout",
     "output_type": "stream",
     "text": [
      "Even Number List: [18, 54, 64, 86]\n",
      "Odd Number List: [33, 77, 21]\n"
     ]
    }
   ],
   "source": [
    "returnOddEven(l)"
   ]
  },
  {
   "cell_type": "markdown",
   "id": "7942769b",
   "metadata": {},
   "source": [
    "#### Create a function that removes all numbers from a list which are greater than a given number."
   ]
  },
  {
   "cell_type": "markdown",
   "id": "30f762dd",
   "metadata": {},
   "source": [
    "**Wrong Way** As list will get dynemically updated due to which it will give wrong output."
   ]
  },
  {
   "cell_type": "code",
   "execution_count": 41,
   "id": "4d2bb039",
   "metadata": {},
   "outputs": [],
   "source": [
    "def removeGreater(l,x):\n",
    "\n",
    "    for i in l:\n",
    "        if i>x:\n",
    "            l.remove(i)\n",
    "    return l"
   ]
  },
  {
   "cell_type": "code",
   "execution_count": 42,
   "id": "8d49d414",
   "metadata": {},
   "outputs": [],
   "source": [
    "l = [18,54,33,64,17,29,86,24,36,63]\n",
    "x = 27"
   ]
  },
  {
   "cell_type": "code",
   "execution_count": 43,
   "id": "56ff0d69",
   "metadata": {},
   "outputs": [
    {
     "data": {
      "text/plain": [
       "[18, 33, 17, 86, 24, 63]"
      ]
     },
     "execution_count": 43,
     "metadata": {},
     "output_type": "execute_result"
    }
   ],
   "source": [
    "removeGreater(l,x)"
   ]
  },
  {
   "cell_type": "markdown",
   "id": "a58c70fd",
   "metadata": {},
   "source": [
    "**Correct Way**"
   ]
  },
  {
   "cell_type": "code",
   "execution_count": 44,
   "id": "3462a883",
   "metadata": {},
   "outputs": [],
   "source": [
    "def removeGreater(l,x):\n",
    "\n",
    "    new_list = []\n",
    "    for i in l:\n",
    "        if i <= x:\n",
    "            new_list.append(i)\n",
    "    return new_list"
   ]
  },
  {
   "cell_type": "code",
   "execution_count": 45,
   "id": "cf7b2f46",
   "metadata": {},
   "outputs": [],
   "source": [
    "l = [18,54,33,64,17,29,86,24,36,63]\n",
    "x = 27"
   ]
  },
  {
   "cell_type": "code",
   "execution_count": 46,
   "id": "7d9a58d3",
   "metadata": {},
   "outputs": [
    {
     "data": {
      "text/plain": [
       "[18, 17, 24]"
      ]
     },
     "execution_count": 46,
     "metadata": {},
     "output_type": "execute_result"
    }
   ],
   "source": [
    "removeGreater(l,x)"
   ]
  },
  {
   "cell_type": "markdown",
   "id": "a8c4f8c1",
   "metadata": {},
   "source": [
    "**Using List Comprehension**"
   ]
  },
  {
   "cell_type": "code",
   "execution_count": 47,
   "id": "f0aeffe9",
   "metadata": {},
   "outputs": [],
   "source": [
    "def removeGreater(l,x):\n",
    "    \n",
    "    return [i for i in l if i<x]"
   ]
  },
  {
   "cell_type": "code",
   "execution_count": 48,
   "id": "5268936f",
   "metadata": {},
   "outputs": [],
   "source": [
    "l = [18,54,33,64,17,29,86,24,36,63]\n",
    "x = 27"
   ]
  },
  {
   "cell_type": "code",
   "execution_count": 49,
   "id": "6c6d2b54",
   "metadata": {},
   "outputs": [
    {
     "data": {
      "text/plain": [
       "[18, 17, 24]"
      ]
     },
     "execution_count": 49,
     "metadata": {},
     "output_type": "execute_result"
    }
   ],
   "source": [
    "removeGreater(l,x)"
   ]
  },
  {
   "cell_type": "markdown",
   "id": "b55d2344",
   "metadata": {},
   "source": [
    "#### Crete a function to find the largest number in a list."
   ]
  },
  {
   "cell_type": "code",
   "execution_count": 50,
   "id": "2665aa89",
   "metadata": {},
   "outputs": [],
   "source": [
    "def largestNumber(l):\n",
    "    \n",
    "    for x in l:\n",
    "        \n",
    "        for y in l: \n",
    "            \n",
    "            if y > x:\n",
    "                \n",
    "                break\n",
    "        else:\n",
    "            return x\n",
    "        \n",
    "    return None   "
   ]
  },
  {
   "cell_type": "code",
   "execution_count": 51,
   "id": "f853d685",
   "metadata": {},
   "outputs": [],
   "source": [
    "l = [18,54,33,64,17,29,86,24,36,63]"
   ]
  },
  {
   "cell_type": "code",
   "execution_count": 52,
   "id": "a2e0f6c5",
   "metadata": {},
   "outputs": [
    {
     "data": {
      "text/plain": [
       "86"
      ]
     },
     "execution_count": 52,
     "metadata": {},
     "output_type": "execute_result"
    }
   ],
   "source": [
    "largestNumber(l)"
   ]
  },
  {
   "cell_type": "markdown",
   "id": "a06db8b1",
   "metadata": {},
   "source": [
    "**OR**"
   ]
  },
  {
   "cell_type": "code",
   "execution_count": 53,
   "id": "f750edd9",
   "metadata": {},
   "outputs": [],
   "source": [
    "def largestNumber(l):\n",
    "    \n",
    "    if not l:\n",
    "        \n",
    "        return None\n",
    "    \n",
    "    else: \n",
    "        \n",
    "        r = l[0]\n",
    "        \n",
    "        for i in range(len(l)):\n",
    "            \n",
    "            if l[i] > r:\n",
    "                \n",
    "                r = l[i]\n",
    "                \n",
    "        return r"
   ]
  },
  {
   "cell_type": "code",
   "execution_count": 54,
   "id": "54bf1540",
   "metadata": {},
   "outputs": [],
   "source": [
    "l = [18,54,33,64,17,29,86,24,36,63]"
   ]
  },
  {
   "cell_type": "code",
   "execution_count": 55,
   "id": "e2b72824",
   "metadata": {},
   "outputs": [
    {
     "data": {
      "text/plain": [
       "86"
      ]
     },
     "execution_count": 55,
     "metadata": {},
     "output_type": "execute_result"
    }
   ],
   "source": [
    "largestNumber(l)"
   ]
  },
  {
   "cell_type": "markdown",
   "id": "800edba7",
   "metadata": {},
   "source": [
    "**OR**"
   ]
  },
  {
   "cell_type": "code",
   "execution_count": 56,
   "id": "18965091",
   "metadata": {},
   "outputs": [],
   "source": [
    "def largestNumber(l):\n",
    "    \n",
    "    r = 0\n",
    "    \n",
    "    for i in l:\n",
    "        \n",
    "        if i > r:\n",
    "            \n",
    "            r = i\n",
    "    return r"
   ]
  },
  {
   "cell_type": "code",
   "execution_count": 57,
   "id": "c76636ff",
   "metadata": {},
   "outputs": [],
   "source": [
    "l = [18,54,33,64,17,29,86,24,36,63]"
   ]
  },
  {
   "cell_type": "code",
   "execution_count": 58,
   "id": "2c292565",
   "metadata": {},
   "outputs": [
    {
     "data": {
      "text/plain": [
       "86"
      ]
     },
     "execution_count": 58,
     "metadata": {},
     "output_type": "execute_result"
    }
   ],
   "source": [
    "largestNumber(l)"
   ]
  },
  {
   "cell_type": "markdown",
   "id": "cd0049c0",
   "metadata": {},
   "source": [
    "#### Create a function to check whether list is sorted or not."
   ]
  },
  {
   "cell_type": "code",
   "execution_count": 59,
   "id": "18b1e429",
   "metadata": {},
   "outputs": [],
   "source": [
    "def isSorted(l):\n",
    "    \n",
    "    if len(l)<= 1:\n",
    "        \n",
    "        return True\n",
    "    \n",
    "    i = 1\n",
    "    \n",
    "    while i < len(l):\n",
    "        \n",
    "        l[i] < l[i-1]\n",
    "        \n",
    "        return False\n",
    "        \n",
    "        i += 1\n",
    "    \n",
    "    return True"
   ]
  },
  {
   "cell_type": "code",
   "execution_count": 60,
   "id": "d9521c52",
   "metadata": {},
   "outputs": [],
   "source": [
    "l = [18,54,33,64,17,29,86,24,86,65,36,63]"
   ]
  },
  {
   "cell_type": "code",
   "execution_count": 61,
   "id": "1800c0f4",
   "metadata": {},
   "outputs": [
    {
     "name": "stdout",
     "output_type": "stream",
     "text": [
      "No\n"
     ]
    }
   ],
   "source": [
    "if isSorted(l):\n",
    "    print(\"Yes\")\n",
    "else:\n",
    "    print(\"No\")"
   ]
  },
  {
   "cell_type": "markdown",
   "id": "91594ff8",
   "metadata": {},
   "source": [
    "#### Create a function to reverse the list."
   ]
  },
  {
   "cell_type": "code",
   "execution_count": 62,
   "id": "7dce41f3",
   "metadata": {},
   "outputs": [],
   "source": [
    "def reverseList(l):\n",
    "    \n",
    "    s = len(l)-1\n",
    "    e = 0\n",
    "    \n",
    "    while e<s:\n",
    "        \n",
    "        l[e],l[s] = l[s],l[e]\n",
    "        \n",
    "        s-=1\n",
    "        e+=1\n",
    "        \n",
    "    return l"
   ]
  },
  {
   "cell_type": "code",
   "execution_count": 63,
   "id": "f7a732e0",
   "metadata": {},
   "outputs": [],
   "source": [
    "l = [18,54,33,64,17,29,86,24,86,65,36,63]"
   ]
  },
  {
   "cell_type": "code",
   "execution_count": 64,
   "id": "426ac2a2",
   "metadata": {},
   "outputs": [
    {
     "data": {
      "text/plain": [
       "[63, 36, 65, 86, 24, 86, 29, 17, 64, 33, 54, 18]"
      ]
     },
     "execution_count": 64,
     "metadata": {},
     "output_type": "execute_result"
    }
   ],
   "source": [
    "reverseList(l)"
   ]
  },
  {
   "cell_type": "markdown",
   "id": "2b974d30",
   "metadata": {},
   "source": [
    "#### Create a function to remove duplicates from the list."
   ]
  },
  {
   "cell_type": "code",
   "execution_count": 65,
   "id": "cc08889f",
   "metadata": {},
   "outputs": [],
   "source": [
    "def removeDuplicates(l):\n",
    "    \n",
    "    unique_list = []\n",
    "    \n",
    "    for i in l:\n",
    "        \n",
    "        if i not in unique_list:\n",
    "            \n",
    "            unique_list.append(i)\n",
    "            \n",
    "    return unique_list"
   ]
  },
  {
   "cell_type": "code",
   "execution_count": 66,
   "id": "ad709080",
   "metadata": {},
   "outputs": [],
   "source": [
    "l = [32,45,67,32,55,45,72,67,83]"
   ]
  },
  {
   "cell_type": "code",
   "execution_count": 67,
   "id": "374033b7",
   "metadata": {},
   "outputs": [
    {
     "data": {
      "text/plain": [
       "[32, 45, 67, 55, 72, 83]"
      ]
     },
     "execution_count": 67,
     "metadata": {},
     "output_type": "execute_result"
    }
   ],
   "source": [
    "removeDuplicates(l)"
   ]
  },
  {
   "cell_type": "markdown",
   "id": "cddddbfb",
   "metadata": {},
   "source": [
    "#### Create a function to left rotate the list by one."
   ]
  },
  {
   "cell_type": "code",
   "execution_count": 68,
   "id": "52ac3d75",
   "metadata": {},
   "outputs": [],
   "source": [
    "def leftRotate(l):\n",
    "    \n",
    "    n = len(l)\n",
    "    x = l[0]\n",
    "    \n",
    "    for i in range(1,n):\n",
    "        l[i-1] = l[i]\n",
    "        \n",
    "    l[n-1] = x\n",
    "    \n",
    "    return l"
   ]
  },
  {
   "cell_type": "code",
   "execution_count": 69,
   "id": "ef5f4ac3",
   "metadata": {},
   "outputs": [],
   "source": [
    "l = [23,45,63,13,39]"
   ]
  },
  {
   "cell_type": "code",
   "execution_count": 70,
   "id": "7330e8bd",
   "metadata": {},
   "outputs": [
    {
     "data": {
      "text/plain": [
       "[45, 63, 13, 39, 23]"
      ]
     },
     "execution_count": 70,
     "metadata": {},
     "output_type": "execute_result"
    }
   ],
   "source": [
    "leftRotate(l)"
   ]
  },
  {
   "cell_type": "markdown",
   "id": "b7a392a8",
   "metadata": {},
   "source": [
    "#### Create a function to find the 2nd Larget Number in a list.   "
   ]
  },
  {
   "cell_type": "code",
   "execution_count": 71,
   "id": "0dfbed5c",
   "metadata": {},
   "outputs": [],
   "source": [
    "def largestNumber(l):\n",
    "    \n",
    "    r = 0\n",
    "    \n",
    "    for i in l:\n",
    "        \n",
    "        if i > r:\n",
    "            \n",
    "            r = i\n",
    "    return r\n",
    "\n",
    "def secondLargestNumber(l):\n",
    "    \n",
    "    if len(l) <= 1:\n",
    "        \n",
    "        return None\n",
    "    \n",
    "    largest = largestNumber(l)\n",
    "    \n",
    "    sl = None\n",
    "    \n",
    "    for x in l:\n",
    "        \n",
    "        if x!=largest:\n",
    "            \n",
    "            if sl == None:\n",
    "                \n",
    "                sl = x\n",
    "                \n",
    "            else:\n",
    "                \n",
    "                sl = max(sl,x)\n",
    "    return sl"
   ]
  },
  {
   "cell_type": "code",
   "execution_count": 72,
   "id": "7f393c38",
   "metadata": {},
   "outputs": [],
   "source": [
    "l = [18,54,33,64,17,29,86,24,86,65,36,63]"
   ]
  },
  {
   "cell_type": "code",
   "execution_count": 73,
   "id": "8b31aa85",
   "metadata": {},
   "outputs": [
    {
     "data": {
      "text/plain": [
       "65"
      ]
     },
     "execution_count": 73,
     "metadata": {},
     "output_type": "execute_result"
    }
   ],
   "source": [
    "secondLargestNumber(l)"
   ]
  },
  {
   "cell_type": "markdown",
   "id": "75491858",
   "metadata": {},
   "source": [
    "**More Rubust Code**"
   ]
  },
  {
   "cell_type": "code",
   "execution_count": 74,
   "id": "61b7a12f",
   "metadata": {},
   "outputs": [],
   "source": [
    "def secondLargestNumber(l):\n",
    "    \n",
    "    if len(l)<=1:\n",
    "        \n",
    "        return None\n",
    "    \n",
    "    largest = l[0]\n",
    "    sl = None\n",
    "    \n",
    "    for x in l[1:]:\n",
    "        \n",
    "        if x > largest:\n",
    "            \n",
    "            sl = largest\n",
    "            largest = x\n",
    "        \n",
    "        elif x != largest:\n",
    "            \n",
    "            if sl == None or sl < x:\n",
    "                sl = x\n",
    "            \n",
    "    return sl"
   ]
  },
  {
   "cell_type": "code",
   "execution_count": 75,
   "id": "aaf319b9",
   "metadata": {},
   "outputs": [],
   "source": [
    "l = [18,54,33,64,17,29,86,24,86,65,36,63]"
   ]
  },
  {
   "cell_type": "code",
   "execution_count": 76,
   "id": "f8e50e3c",
   "metadata": {},
   "outputs": [
    {
     "data": {
      "text/plain": [
       "65"
      ]
     },
     "execution_count": 76,
     "metadata": {},
     "output_type": "execute_result"
    }
   ],
   "source": [
    "secondLargestNumber(l)"
   ]
  },
  {
   "cell_type": "markdown",
   "id": "e66c64fa",
   "metadata": {},
   "source": [
    "#### Create a function to find the element occurring odd number of times."
   ]
  },
  {
   "cell_type": "code",
   "execution_count": 77,
   "id": "5694b3f9",
   "metadata": {},
   "outputs": [],
   "source": [
    "def countOdds(l):\n",
    "    \n",
    "    oddElements = []\n",
    "    \n",
    "    for i in l:\n",
    "        \n",
    "        count = 0\n",
    "        \n",
    "        for j in l:\n",
    "            \n",
    "            if i == j:\n",
    "                \n",
    "                count+=1\n",
    "        \n",
    "        if count%2 != 0 and i not in oddElements:\n",
    "                \n",
    "            oddElements.append(i)\n",
    "                      \n",
    "    return oddElements"
   ]
  },
  {
   "cell_type": "code",
   "execution_count": 78,
   "id": "69d48608",
   "metadata": {},
   "outputs": [],
   "source": [
    "l = [2,4,5,2,4,5,2,5]"
   ]
  },
  {
   "cell_type": "code",
   "execution_count": 79,
   "id": "857832ad",
   "metadata": {},
   "outputs": [
    {
     "data": {
      "text/plain": [
       "[2, 5]"
      ]
     },
     "execution_count": 79,
     "metadata": {},
     "output_type": "execute_result"
    }
   ],
   "source": [
    "countOdds(l)"
   ]
  },
  {
   "cell_type": "markdown",
   "id": "2814f85e",
   "metadata": {},
   "source": [
    "## Conditional Statement "
   ]
  },
  {
   "cell_type": "markdown",
   "id": "c901605e",
   "metadata": {},
   "source": [
    "**Q.Given a year, determine whether it is a leap year. If it is a leap year, return the Boolean True, otherwise return False.**"
   ]
  },
  {
   "cell_type": "code",
   "execution_count": 80,
   "id": "d63f1686",
   "metadata": {},
   "outputs": [
    {
     "name": "stdout",
     "output_type": "stream",
     "text": [
      "Enter the year to check either it is leap year or not: \n"
     ]
    },
    {
     "ename": "ValueError",
     "evalue": "invalid literal for int() with base 10: ''",
     "output_type": "error",
     "traceback": [
      "\u001b[0;31m---------------------------------------------------------------------------\u001b[0m",
      "\u001b[0;31mValueError\u001b[0m                                Traceback (most recent call last)",
      "Cell \u001b[0;32mIn[80], line 15\u001b[0m\n\u001b[1;32m     12\u001b[0m     \u001b[38;5;28;01melse\u001b[39;00m:\n\u001b[1;32m     13\u001b[0m         \u001b[38;5;28mprint\u001b[39m(\u001b[38;5;28;01mFalse\u001b[39;00m)\n\u001b[0;32m---> 15\u001b[0m year \u001b[38;5;241m=\u001b[39m \u001b[38;5;28;43mint\u001b[39;49m\u001b[43m(\u001b[49m\u001b[38;5;28;43minput\u001b[39;49m\u001b[43m(\u001b[49m\u001b[38;5;124;43m\"\u001b[39;49m\u001b[38;5;124;43mEnter the year to check either it is leap year or not: \u001b[39;49m\u001b[38;5;124;43m\"\u001b[39;49m\u001b[43m)\u001b[49m\u001b[43m)\u001b[49m\n\u001b[1;32m     17\u001b[0m checkLeapYear(year)\n",
      "\u001b[0;31mValueError\u001b[0m: invalid literal for int() with base 10: ''"
     ]
    }
   ],
   "source": [
    "def checkLeapYear(year):\n",
    "    \n",
    "    if year%4 == 0:\n",
    "    \n",
    "        if year%100 == 0:\n",
    "        \n",
    "            if year%400 == 0:\n",
    "                print(True)\n",
    "                \n",
    "            else:\n",
    "                print(False)\n",
    "    else:\n",
    "        print(False)\n",
    "        \n",
    "year = int(input(\"Enter the year to check either it is leap year or not: \"))\n",
    "\n",
    "checkLeapYear(year)"
   ]
  },
  {
   "cell_type": "code",
   "execution_count": null,
   "id": "145db780",
   "metadata": {},
   "outputs": [],
   "source": []
  }
 ],
 "metadata": {
  "kernelspec": {
   "display_name": "Python 3 (ipykernel)",
   "language": "python",
   "name": "python3"
  },
  "language_info": {
   "codemirror_mode": {
    "name": "ipython",
    "version": 3
   },
   "file_extension": ".py",
   "mimetype": "text/x-python",
   "name": "python",
   "nbconvert_exporter": "python",
   "pygments_lexer": "ipython3",
   "version": "3.11.2"
  }
 },
 "nbformat": 4,
 "nbformat_minor": 5
}
